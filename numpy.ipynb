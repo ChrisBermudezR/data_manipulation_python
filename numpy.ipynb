{
 "cells": [
  {
   "cell_type": "markdown",
   "id": "e259d9e6-4e05-4a2b-985b-ea66c22dc4e1",
   "metadata": {},
   "source": [
    "# Manipulación de datos con Numpy"
   ]
  },
  {
   "cell_type": "code",
   "execution_count": 3,
   "id": "5465783c-6db4-44f3-bf72-a22f55a10c8f",
   "metadata": {},
   "outputs": [],
   "source": [
    "# importación de librería\n",
    "\n",
    "import numpy as np\n"
   ]
  },
  {
   "cell_type": "code",
   "execution_count": 7,
   "id": "009b64fc-bcba-43ac-a8d7-c5ba1fadb708",
   "metadata": {},
   "outputs": [
    {
     "data": {
      "text/plain": [
       "array([1, 2, 3, 4, 5, 6, 7, 8, 9])"
      ]
     },
     "execution_count": 7,
     "metadata": {},
     "output_type": "execute_result"
    }
   ],
   "source": [
    "# creación de un array\n",
    "\n",
    "lista = [1,2,3,4,5,6,7,8,9]\n",
    "\n",
    "arr = np.array(lista)\n",
    "arr"
   ]
  },
  {
   "cell_type": "code",
   "execution_count": 6,
   "id": "fb49cbbe-c186-4ff1-a092-777f97725a2e",
   "metadata": {},
   "outputs": [
    {
     "data": {
      "text/plain": [
       "numpy.ndarray"
      ]
     },
     "execution_count": 6,
     "metadata": {},
     "output_type": "execute_result"
    }
   ],
   "source": [
    "type(arr)"
   ]
  },
  {
   "cell_type": "code",
   "execution_count": 11,
   "id": "0c582407-b995-43c9-8cef-b2fb6dc2d4f4",
   "metadata": {},
   "outputs": [
    {
     "data": {
      "text/plain": [
       "array([[ 1,  2,  3],\n",
       "       [ 7,  8,  9],\n",
       "       [12, 13, 14]])"
      ]
     },
     "execution_count": 11,
     "metadata": {},
     "output_type": "execute_result"
    }
   ],
   "source": [
    "# Creación de varios arrays\n",
    "matriz = [[1,2,3],[7,8,9],[12,13,14]]\n",
    "matriz = np.array(matriz)\n",
    "matriz"
   ]
  },
  {
   "cell_type": "code",
   "execution_count": 18,
   "id": "c3f2b07c-49f2-47e3-9b4f-56543f0159f8",
   "metadata": {},
   "outputs": [
    {
     "name": "stdout",
     "output_type": "stream",
     "text": [
      "1\n",
      "[1 2 3]\n",
      "1\n",
      "3\n",
      "12\n"
     ]
    }
   ],
   "source": [
    "# Indexado\n",
    "# Unidimensional\n",
    "print(arr[0])\n",
    "# Multidimensional\n",
    "print(matriz[0])\n",
    "# Multidimensional\n",
    "print(matriz[0,0])\n",
    "print(matriz[0,2])\n",
    "print(matriz[2,0])\n"
   ]
  },
  {
   "cell_type": "code",
   "execution_count": 25,
   "id": "7664275b-2c4d-4c87-ba0a-25b9325f12b2",
   "metadata": {},
   "outputs": [
    {
     "name": "stdout",
     "output_type": "stream",
     "text": [
      "[1 2 3]\n",
      "[1 2 3]\n",
      "[[1 2 3]\n",
      " [7 8 9]]\n",
      "[[1 2 3]\n",
      " [7 8 9]]\n"
     ]
    }
   ],
   "source": [
    "# Acceso a multiples objetos\n",
    "# Slicing\n",
    "# Unidimensional\n",
    "print(arr[0:3]) #esto es lo mismo que..\n",
    "print(arr[:3]) #esto\n",
    "print(matriz[0:2])\n",
    "print(matriz[:2])\n"
   ]
  },
  {
   "cell_type": "code",
   "execution_count": 29,
   "id": "9f1f0a10-4aa1-4ba4-8fea-8375b7aeb4b4",
   "metadata": {},
   "outputs": [
    {
     "name": "stdout",
     "output_type": "stream",
     "text": [
      "[[ 1  2  3]\n",
      " [ 7  8  9]\n",
      " [12 13 14]]\n",
      "[4 5 6 7 8 9]\n"
     ]
    }
   ],
   "source": [
    "# Lo siguiente imprime todo\n",
    "print(matriz[::])\n",
    "print(arr[3:])"
   ]
  },
  {
   "cell_type": "code",
   "execution_count": 33,
   "id": "9222e933-6184-4afd-b626-08057b7d1312",
   "metadata": {},
   "outputs": [
    {
     "name": "stdout",
     "output_type": "stream",
     "text": [
      "[[ 8]\n",
      " [13]]\n",
      "[[ 8  9]\n",
      " [13 14]]\n"
     ]
    }
   ],
   "source": [
    "# Manejo de multidimensionalidad con el slicing\n",
    "\n",
    "print(matriz[1:,1:2])\n",
    "print(matriz[1:,1:])"
   ]
  }
 ],
 "metadata": {
  "kernelspec": {
   "display_name": "Python 3 (ipykernel)",
   "language": "python",
   "name": "python3"
  },
  "language_info": {
   "codemirror_mode": {
    "name": "ipython",
    "version": 3
   },
   "file_extension": ".py",
   "mimetype": "text/x-python",
   "name": "python",
   "nbconvert_exporter": "python",
   "pygments_lexer": "ipython3",
   "version": "3.12.7"
  }
 },
 "nbformat": 4,
 "nbformat_minor": 5
}
